{
 "metadata": {
  "kernelspec": {
   "display_name": "Streamlit Notebook",
   "name": "streamlit"
  },
  "lastEditStatus": {
   "notebookId": "qbwbgp7vb2izuiza2pmm",
   "authorId": "1302972214982",
   "authorName": "KAMESHS",
   "authorEmail": "kamesh.sampath@snowflake.com",
   "sessionId": "837b307b-b463-4478-828c-bc9262fc9643",
   "lastEditTime": 1737648697517
  }
 },
 "nbformat_minor": 5,
 "nbformat": 4,
 "cells": [
  {
   "cell_type": "code",
   "id": "8d50cbf4-0c8d-4950-86cb-114990437ac9",
   "metadata": {
    "language": "sql",
    "name": "setup",
    "resultHeight": 111,
    "collapsed": false
   },
   "source": "USE ROLE sysadmin;\n\nCREATE OR REPLACE DATABASE cortex_analyst_demo;\n\nCREATE OR REPLACE SCHEMA revenue_timeseries;\n\nCREATE OR REPLACE WAREHOUSE cortex_analyst_wh\n    WAREHOUSE_SIZE = 'large'\n    WAREHOUSE_TYPE = 'standard'\n    AUTO_SUSPEND = 60\n    AUTO_RESUME = TRUE\n    INITIALLY_SUSPENDED = TRUE\nCOMMENT = 'warehouse for cortex analyst demo';\n\nCREATE STAGE raw_data DIRECTORY = (ENABLE = TRUE);",
   "execution_count": null,
   "outputs": []
  },
  {
   "cell_type": "code",
   "id": "6926949f-968b-425e-87fc-32388534b609",
   "metadata": {
    "language": "sql",
    "name": "set_context",
    "resultHeight": 111,
    "collapsed": false
   },
   "outputs": [],
   "source": "USE cortex_analyst_demo.revenue_timeseries;\nUSE warehouse cortex_analyst_wh;",
   "execution_count": null
  },
  {
   "cell_type": "code",
   "id": "307cd2df-6e17-41d4-9b6f-0cf600978596",
   "metadata": {
    "language": "sql",
    "name": "setup_tables",
    "collapsed": false,
    "resultHeight": 111
   },
   "outputs": [],
   "source": "CREATE OR REPLACE TABLE CORTEX_ANALYST_DEMO.REVENUE_TIMESERIES.DAILY_REVENUE (\n\tDATE DATE,\n\tREVENUE FLOAT,\n\tCOGS FLOAT,\n\tFORECASTED_REVENUE FLOAT\n);\n\nCREATE OR REPLACE TABLE CORTEX_ANALYST_DEMO.REVENUE_TIMESERIES.DAILY_REVENUE_BY_PRODUCT (\n\tDATE DATE,\n\tPRODUCT_LINE VARCHAR(16777216),\n\tREVENUE FLOAT,\n\tCOGS FLOAT,\n\tFORECASTED_REVENUE FLOAT\n);\n\nCREATE OR REPLACE TABLE CORTEX_ANALYST_DEMO.REVENUE_TIMESERIES.DAILY_REVENUE_BY_REGION (\n\tDATE DATE,\n\tSALES_REGION VARCHAR(16777216),\n\tREVENUE FLOAT,\n\tCOGS FLOAT,\n\tFORECASTED_REVENUE FLOAT\n);",
   "execution_count": null
  },
  {
   "cell_type": "markdown",
   "id": "70b20b78-f6d0-4d6b-a6f8-f84e5340026b",
   "metadata": {
    "name": "upload_data_files",
    "collapsed": false
   },
   "source": "Before proceeding to next step, ensure that you have uploaded the CSV files from <https://github.com/Snowflake-Labs/sfguide-getting-started-with-cortex-analyst-in-snowflake/tree/main/data> on to the  `raw_data` stage."
  },
  {
   "cell_type": "code",
   "id": "fcec72d7-8feb-498f-b0af-a74374059e4f",
   "metadata": {
    "language": "sql",
    "name": "ingest_data",
    "collapsed": false,
    "resultHeight": 111
   },
   "outputs": [],
   "source": "COPY INTO CORTEX_ANALYST_DEMO.REVENUE_TIMESERIES.DAILY_REVENUE\nFROM @raw_data\nFILES = ('daily_revenue_combined.csv')\nFILE_FORMAT = (\n    TYPE=CSV,\n    SKIP_HEADER=1,\n    FIELD_DELIMITER=',',\n    TRIM_SPACE=FALSE,\n    FIELD_OPTIONALLY_ENCLOSED_BY=NONE,\n    REPLACE_INVALID_CHARACTERS=TRUE,\n    DATE_FORMAT=AUTO,\n    TIME_FORMAT=AUTO,\n    TIMESTAMP_FORMAT=AUTO\n    EMPTY_FIELD_AS_NULL = FALSE\n    error_on_column_count_mismatch=false\n)\nON_ERROR=CONTINUE\nFORCE = TRUE;\n\nCOPY INTO CORTEX_ANALYST_DEMO.REVENUE_TIMESERIES.DAILY_REVENUE_BY_PRODUCT\nFROM @raw_data\nFILES = ('daily_revenue_by_product_combined.csv')\nFILE_FORMAT = (\n    TYPE=CSV,\n    SKIP_HEADER=1,\n    FIELD_DELIMITER=',',\n    TRIM_SPACE=FALSE,\n    FIELD_OPTIONALLY_ENCLOSED_BY=NONE,\n    REPLACE_INVALID_CHARACTERS=TRUE,\n    DATE_FORMAT=AUTO,\n    TIME_FORMAT=AUTO,\n    TIMESTAMP_FORMAT=AUTO\n    EMPTY_FIELD_AS_NULL = FALSE\n    error_on_column_count_mismatch=false\n)\nON_ERROR=CONTINUE\nFORCE = TRUE ;\n\nCOPY INTO CORTEX_ANALYST_DEMO.REVENUE_TIMESERIES.DAILY_REVENUE_BY_REGION\nFROM @raw_data\nFILES = ('daily_revenue_by_region_combined.csv')\nFILE_FORMAT = (\n    TYPE=CSV,\n    SKIP_HEADER=1,\n    FIELD_DELIMITER=',',\n    TRIM_SPACE=FALSE,\n    FIELD_OPTIONALLY_ENCLOSED_BY=NONE,\n    REPLACE_INVALID_CHARACTERS=TRUE,\n    DATE_FORMAT=AUTO,\n    TIME_FORMAT=AUTO,\n    TIMESTAMP_FORMAT=AUTO\n    EMPTY_FIELD_AS_NULL = FALSE\n    error_on_column_count_mismatch=false\n)\nON_ERROR=CONTINUE\nFORCE = TRUE;",
   "execution_count": null
  },
  {
   "cell_type": "markdown",
   "id": "532f9e43-c433-4e1c-8519-021e1f611a03",
   "metadata": {
    "name": "cell1",
    "collapsed": false
   },
   "source": "Upload the [Semantic model](https://github.com/Snowflake-Labs/sfguide-getting-started-with-cortex-analyst-in-snowflake/blob/main/revenue_timeseries.yaml) to `RAW_DATA` stage."
  }
 ]
}
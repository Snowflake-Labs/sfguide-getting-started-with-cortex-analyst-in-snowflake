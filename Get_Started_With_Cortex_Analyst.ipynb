{
 "metadata": {
  "kernelspec": {
   "display_name": "Streamlit Notebook",
   "name": "streamlit"
  },
  "lastEditStatus": {
   "notebookId": "qbwbgp7vb2izuiza2pmm",
   "authorId": "1302972214982",
   "authorName": "KAMESHS",
   "authorEmail": "kamesh.sampath@snowflake.com",
   "sessionId": "9068480e-0b91-4430-a996-954232eb9134",
   "lastEditTime": 1737516210386
  }
 },
 "nbformat_minor": 5,
 "nbformat": 4,
 "cells": [
  {
   "cell_type": "code",
   "id": "8d50cbf4-0c8d-4950-86cb-114990437ac9",
   "metadata": {
    "language": "sql",
    "name": "setup",
    "resultHeight": 111,
    "collapsed": false
   },
   "source": "USE ROLE SYSADMIN;\n\nCREATE OR REPLACE DATABASE cortex_analyst_demo;\n\nCREATE OR REPLACE SCHEMA revenue_timeseries;\n\nCREATE OR REPLACE WAREHOUSE cortex_analyst_wh\n    WAREHOUSE_SIZE = 'large'\n    WAREHOUSE_TYPE = 'standard'\n    AUTO_SUSPEND = 60\n    AUTO_RESUME = TRUE\n    INITIALLY_SUSPENDED = TRUE\nCOMMENT = 'warehouse for cortex analyst demo';\n\nCREATE STAGE raw_data DIRECTORY = (ENABLE = TRUE);",
   "execution_count": null,
   "outputs": []
  },
  {
   "cell_type": "code",
   "id": "307cd2df-6e17-41d4-9b6f-0cf600978596",
   "metadata": {
    "language": "sql",
    "name": "setup_tables",
    "collapsed": false,
    "resultHeight": 111
   },
   "outputs": [],
   "source": "USE cortex_analyst_demo.revenue_timeseries;\nUSE warehouse cortex_analyst_wh;\n\nCREATE OR REPLACE TABLE CORTEX_ANALYST_DEMO.REVENUE_TIMESERIES.DAILY_REVENUE (\n\tDATE DATE,\n\tREVENUE FLOAT,\n\tCOGS FLOAT,\n\tFORECASTED_REVENUE FLOAT\n);\n\nCREATE OR REPLACE TABLE CORTEX_ANALYST_DEMO.REVENUE_TIMESERIES.DAILY_REVENUE_BY_PRODUCT (\n\tDATE DATE,\n\tPRODUCT_LINE VARCHAR(16777216),\n\tREVENUE FLOAT,\n\tCOGS FLOAT,\n\tFORECASTED_REVENUE FLOAT\n);\n\nCREATE OR REPLACE TABLE CORTEX_ANALYST_DEMO.REVENUE_TIMESERIES.DAILY_REVENUE_BY_REGION (\n\tDATE DATE,\n\tSALES_REGION VARCHAR(16777216),\n\tREVENUE FLOAT,\n\tCOGS FLOAT,\n\tFORECASTED_REVENUE FLOAT\n);",
   "execution_count": null
  },
  {
   "cell_type": "code",
   "id": "fcec72d7-8feb-498f-b0af-a74374059e4f",
   "metadata": {
    "language": "sql",
    "name": "ingest_data",
    "collapsed": false,
    "resultHeight": 111
   },
   "outputs": [],
   "source": "COPY INTO CORTEX_ANALYST_DEMO.REVENUE_TIMESERIES.DAILY_REVENUE\nFROM @raw_data\nFILES = ('daily_revenue_combined.csv')\nFILE_FORMAT = (\n    TYPE=CSV,\n    SKIP_HEADER=1,\n    FIELD_DELIMITER=',',\n    TRIM_SPACE=FALSE,\n    FIELD_OPTIONALLY_ENCLOSED_BY=NONE,\n    REPLACE_INVALID_CHARACTERS=TRUE,\n    DATE_FORMAT=AUTO,\n    TIME_FORMAT=AUTO,\n    TIMESTAMP_FORMAT=AUTO\n    EMPTY_FIELD_AS_NULL = FALSE\n    error_on_column_count_mismatch=false\n)\nON_ERROR=CONTINUE\nFORCE = TRUE;\n\nCOPY INTO CORTEX_ANALYST_DEMO.REVENUE_TIMESERIES.DAILY_REVENUE_BY_PRODUCT\nFROM @raw_data\nFILES = ('daily_revenue_by_product_combined.csv')\nFILE_FORMAT = (\n    TYPE=CSV,\n    SKIP_HEADER=1,\n    FIELD_DELIMITER=',',\n    TRIM_SPACE=FALSE,\n    FIELD_OPTIONALLY_ENCLOSED_BY=NONE,\n    REPLACE_INVALID_CHARACTERS=TRUE,\n    DATE_FORMAT=AUTO,\n    TIME_FORMAT=AUTO,\n    TIMESTAMP_FORMAT=AUTO\n    EMPTY_FIELD_AS_NULL = FALSE\n    error_on_column_count_mismatch=false\n)\nON_ERROR=CONTINUE\nFORCE = TRUE ;\n\nCOPY INTO CORTEX_ANALYST_DEMO.REVENUE_TIMESERIES.DAILY_REVENUE_BY_REGION\nFROM @raw_data\nFILES = ('daily_revenue_by_region_combined.csv')\nFILE_FORMAT = (\n    TYPE=CSV,\n    SKIP_HEADER=1,\n    FIELD_DELIMITER=',',\n    TRIM_SPACE=FALSE,\n    FIELD_OPTIONALLY_ENCLOSED_BY=NONE,\n    REPLACE_INVALID_CHARACTERS=TRUE,\n    DATE_FORMAT=AUTO,\n    TIME_FORMAT=AUTO,\n    TIMESTAMP_FORMAT=AUTO\n    EMPTY_FIELD_AS_NULL = FALSE\n    error_on_column_count_mismatch=false\n)\nON_ERROR=CONTINUE\nFORCE = TRUE;",
   "execution_count": null
  },
  {
   "cell_type": "code",
   "id": "6926949f-968b-425e-87fc-32388534b609",
   "metadata": {
    "language": "sql",
    "name": "set_context",
    "resultHeight": 111
   },
   "outputs": [],
   "source": "use warehouse compute_wh;\nuse database cortex_lab;",
   "execution_count": null
  },
  {
   "cell_type": "code",
   "id": "6fa79485-0464-415d-a0d6-40c4bd3459d1",
   "metadata": {
    "language": "sql",
    "name": "load_data",
    "collapsed": false,
    "resultHeight": 111
   },
   "outputs": [],
   "source": "CREATE or REPLACE file format csvformat\n  SKIP_HEADER = 1\n  FIELD_OPTIONALLY_ENCLOSED_BY = '\"'\n  type = 'CSV';\n\nCREATE or REPLACE stage call_transcripts_data_stage\n  file_format = csvformat\n  url = 's3://sfquickstarts/misc/call_transcripts/';\n\nCREATE or REPLACE table CALL_TRANSCRIPTS ( \n  date_created date,\n  language varchar(60),\n  country varchar(60),\n  product varchar(60),\n  category varchar(60),\n  damage_type varchar(90),\n  transcript varchar\n) COMMENT = '{\"origin\":\"sf_sit-is\", \"name\":\"aiml_notebooks_artic_cortex\", \"version\":{\"major\":1, \"minor\":0}, \"attributes\":{\"is_quickstart\":1, \"source\":\"sql\"}}';\n\nCOPY into CALL_TRANSCRIPTS\n  from @call_transcripts_data_stage;",
   "execution_count": null
  },
  {
   "cell_type": "markdown",
   "id": "5513ac16-2454-4426-bd4f-266e4207766b",
   "metadata": {
    "name": "md_cortex",
    "collapsed": false,
    "resultHeight": 74
   },
   "source": "# Snowflake Cortex"
  },
  {
   "cell_type": "markdown",
   "id": "92c50707-1510-4c17-b8a0-868b717ec86e",
   "metadata": {
    "name": "cell2",
    "collapsed": false,
    "resultHeight": 60
   },
   "source": "## Translate"
  },
  {
   "cell_type": "code",
   "id": "65c09855-28cf-4ee1-a234-1f5a296444cb",
   "metadata": {
    "language": "sql",
    "name": "translate",
    "collapsed": false,
    "resultHeight": 111
   },
   "outputs": [],
   "source": "select snowflake.cortex.translate('wie geht es dir heute?','de_DE','en_XX');",
   "execution_count": null
  },
  {
   "cell_type": "code",
   "id": "a746ff0e-c8cc-4852-b467-e455b2e294c8",
   "metadata": {
    "language": "sql",
    "name": "translate_col",
    "collapsed": false,
    "resultHeight": 438
   },
   "outputs": [],
   "source": "select transcript,snowflake.cortex.translate(transcript,'de_DE','en_XX') from call_transcripts where language = 'German';",
   "execution_count": null
  },
  {
   "cell_type": "markdown",
   "id": "7a1bd284-e681-4040-a58c-43152c533ad7",
   "metadata": {
    "name": "md_sentiment",
    "collapsed": false,
    "resultHeight": 60
   },
   "source": "## Sentiment Analysis"
  },
  {
   "cell_type": "code",
   "id": "ecd384fc-48c8-477a-b0b1-d81e907a3d87",
   "metadata": {
    "language": "sql",
    "name": "sentiment_score",
    "collapsed": false,
    "resultHeight": 438
   },
   "outputs": [],
   "source": "select transcript, snowflake.cortex.sentiment(transcript) from call_transcripts where language = 'English';",
   "execution_count": null
  },
  {
   "cell_type": "markdown",
   "id": "2988505e-f9eb-42d1-b9b4-9ad539168a4f",
   "metadata": {
    "name": "md_summarize",
    "collapsed": false,
    "resultHeight": 60
   },
   "source": "## Summarize"
  },
  {
   "cell_type": "code",
   "id": "6c01c9b5-9bde-44c2-9f8d-ac2028e90875",
   "metadata": {
    "language": "sql",
    "name": "summarize",
    "collapsed": false,
    "resultHeight": 111
   },
   "outputs": [],
   "source": "select transcript,snowflake.cortex.summarize(transcript) as summary from call_transcripts where language = 'English' limit 1;",
   "execution_count": null
  },
  {
   "cell_type": "code",
   "id": "cedd737b-5b75-4b47-acd5-57e55c82b3e3",
   "metadata": {
    "language": "sql",
    "name": "token_count",
    "collapsed": false,
    "resultHeight": 111
   },
   "outputs": [],
   "source": "select transcript,snowflake.cortex.summarize(transcript) as summary,snowflake.cortex.count_tokens('summarize',transcript) as number_of_tokens from call_transcripts where language = 'English' limit 1;",
   "execution_count": null
  },
  {
   "cell_type": "markdown",
   "id": "f40e2529-d62f-4465-8ac6-995ae7bab319",
   "metadata": {
    "name": "md_classify_text",
    "collapsed": false,
    "resultHeight": 60
   },
   "source": "## Classify Text"
  },
  {
   "cell_type": "code",
   "id": "bdcc9fc8-ce20-4e5c-b1ab-34f51763a95b",
   "metadata": {
    "language": "sql",
    "name": "classify_text",
    "collapsed": false,
    "resultHeight": 438
   },
   "outputs": [],
   "source": "select transcript,snowflake.cortex.classify_text(transcript,['Refund','Exchange']) as classification from call_transcripts where language = 'English';",
   "execution_count": null
  },
  {
   "cell_type": "markdown",
   "id": "4dbda927-3e54-4eb4-b9e0-66a75ac2deee",
   "metadata": {
    "name": "md__artic",
    "collapsed": false,
    "resultHeight": 60
   },
   "source": "## Snowflake Arctic"
  },
  {
   "cell_type": "code",
   "id": "b9e8defc-a6ff-4eab-9a0f-0e4b19e3c687",
   "metadata": {
    "language": "sql",
    "name": "snowflake_artic",
    "collapsed": false,
    "resultHeight": 111
   },
   "outputs": [],
   "source": "SET prompt = \n'### \nSummarize this transcript in less than 200 words. \nPut the product name, defect and summary in JSON format. \n###';\n\nselect snowflake.cortex.complete('snowflake-arctic',concat('[INST]',$prompt,transcript,'[/INST]')) as summary\nfrom call_transcripts where language = 'English' limit 1;",
   "execution_count": null
  },
  {
   "cell_type": "code",
   "id": "31d9ecda-c953-40ae-9d5b-78dd3f9d3b80",
   "metadata": {
    "language": "python",
    "name": "cell1",
    "collapsed": false,
    "resultHeight": 235
   },
   "outputs": [],
   "source": "import streamlit as st\nst.json(snowflake_artic.to_pandas().iloc[0,0])",
   "execution_count": null
  }
 ]
}